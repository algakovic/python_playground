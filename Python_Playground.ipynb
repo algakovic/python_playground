{
 "cells": [
  {
   "cell_type": "markdown",
   "metadata": {},
   "source": [
    "#  Project: Build a Calculator"
   ]
  },
  {
   "cell_type": "code",
   "execution_count": null,
   "metadata": {},
   "outputs": [],
   "source": [
    "# Basic Calculations:\n",
    "def add(num1, num2):\n",
    "    return num1 + num2\n",
    "\n",
    "def subtract(num1, num2):\n",
    "    return num1 - num2\n",
    "\n",
    "def multiply(num1, num2):\n",
    "    return num1 * num2\n",
    "# Divide function returns selection options floor normal or modulo\n",
    "def divide(num1, num2):\n",
    "    selection = input('Which kind of division would you like? normal / floor // or modulo %: /,//,%?')\n",
    "    if selection == '/':\n",
    "        return num1 / num2\n",
    "    elif selection == '//':\n",
    "        return num1 // num2\n",
    "    elif selection == '%':\n",
    "        return num1 % num2\n",
    "    else:\n",
    "        selection = input('Invalid input please try again /,//,%?')"
   ]
  },
  {
   "cell_type": "code",
   "execution_count": 49,
   "metadata": {},
   "outputs": [],
   "source": [
    "# Function that checks if user wishes to continue with the same calculations.\n",
    "def checkcon():\n",
    "    strinput = str(input('Would you like to continue with more calculations: Y/N?'))\n",
    "    yeslist = ['Y', 'Yes', 'YES', 'y']\n",
    "    nolist = ['N', 'No', 'NO', 'n']\n",
    "    if strinput in yeslist:\n",
    "        return 1\n",
    "    elif strinput in nolist:\n",
    "        return 0\n",
    "    else:\n",
    "        strinput = str(input('Invalid input please try again: Y/N?'))\n",
    "\n",
    "# Main calculator function\n",
    "def calculator():\n",
    "    \n",
    "    # Print user menu \n",
    "    print('Please select operation: \\n ' \n",
    "                '1. Add \\n '\n",
    "                '2. Subtract \\n '\n",
    "                '3. Multiply \\n '\n",
    "                '4. Divide')\n",
    "\n",
    "    # Take input from the user for operation, followed by numbers  \n",
    "    select = int(input('Select operations from 1, 2, 3, 4:'))\n",
    "    \n",
    "    \n",
    "    while 1 == True:\n",
    "        number1 = int(input('Please provide the first number:'))\n",
    "        number2 = int(input('Please provide the second number:'))\n",
    "\n",
    "        # Based on operation, pass the two numbers to respective function\n",
    "        if select == 1:\n",
    "            print(number1, '+', number2, '=', add(number1, number2))\n",
    "            if checkcon() == 0:\n",
    "                break \n",
    "            else: \n",
    "                continue\n",
    "        elif select == 2:\n",
    "            print(number1, '-', number2, '=', subtract(number1, number2))\n",
    "            if checkcon() == 0:\n",
    "                break \n",
    "            else: \n",
    "                continue\n",
    "        elif select == 3:\n",
    "            print(number1, '*', number2, '=', multiply(number1, number2))\n",
    "            if checkcon() == 0:\n",
    "                break \n",
    "            else: \n",
    "                continue\n",
    "        elif select == 4:\n",
    "            print(number1, 'divided by', number2, '=', divide(number1, number2))\n",
    "            if checkcon() == 0:\n",
    "                break \n",
    "            else: \n",
    "                continue\n",
    "        else:\n",
    "            print('Invalid input')\n",
    "\n",
    "\n",
    "    # Expected output    \n",
    "\n",
    "    # Please select operation -\n",
    "    # 1. Add\n",
    "    # 2. Subtract\n",
    "    # 3. Multiply\n",
    "    # 4. Divide\n",
    "\n",
    "    # Select operations from 1, 2, 3, 4 :1\n",
    "    # Enter first number: 2\n",
    "    # Enter second number: 3\n",
    "    # 2 + 3 = 5"
   ]
  },
  {
   "cell_type": "code",
   "execution_count": null,
   "metadata": {},
   "outputs": [
    {
     "name": "stdout",
     "output_type": "stream",
     "text": [
      "Please select operation: \n",
      " 1. Add \n",
      " 2. Subtract \n",
      " 3. Multiply \n",
      " 4. Divide\n"
     ]
    },
    {
     "name": "stdin",
     "output_type": "stream",
     "text": [
      "Select operations from 1, 2, 3, 4: 4\n",
      "Please provide the first number: 10\n",
      "Please provide the second number: 3\n",
      "Which kind of division would you like? normal / floor // or modulo %: /,//,%? %\n"
     ]
    },
    {
     "name": "stdout",
     "output_type": "stream",
     "text": [
      "10 divided by 3 = 1\n"
     ]
    },
    {
     "name": "stdin",
     "output_type": "stream",
     "text": [
      "Would you like to continue with more calculations: Y/N? y\n",
      "Please provide the first number: 10\n",
      "Please provide the second number: 33\n",
      "Which kind of division would you like? normal / floor // or modulo %: /,//,%? %\n"
     ]
    },
    {
     "name": "stdout",
     "output_type": "stream",
     "text": [
      "10 divided by 33 = 10\n"
     ]
    },
    {
     "name": "stdin",
     "output_type": "stream",
     "text": [
      "Would you like to continue with more calculations: Y/N? y\n",
      "Please provide the first number: 10\n",
      "Please provide the second number: 3\n",
      "Which kind of division would you like? normal / floor // or modulo %: /,//,%? //\n"
     ]
    },
    {
     "name": "stdout",
     "output_type": "stream",
     "text": [
      "10 divided by 3 = 3\n"
     ]
    },
    {
     "name": "stdin",
     "output_type": "stream",
     "text": [
      "Would you like to continue with more calculations: Y/N? y\n",
      "Please provide the first number: 10\n",
      "Please provide the second number: 3\n",
      "Which kind of division would you like? normal / floor // or modulo %: /,//,%? /\n"
     ]
    },
    {
     "name": "stdout",
     "output_type": "stream",
     "text": [
      "10 divided by 3 = 3.3333333333333335\n"
     ]
    }
   ],
   "source": [
    "calculator()"
   ]
  },
  {
   "cell_type": "markdown",
   "metadata": {},
   "source": [
    "# Project: Build Statistical Dispersion measure tool - Variation"
   ]
  },
  {
   "cell_type": "markdown",
   "metadata": {},
   "source": [
    "\n",
    "## Calculating the Variance\n",
    "\n",
    "The formula for variance is: \n",
    "\n",
    "$$ \\Large s^2 = \\frac{1}{n - 1} \\sum_{i=1}^{n}(x_i - \\bar{x})^2 $$"
   ]
  },
  {
   "cell_type": "code",
   "execution_count": 12,
   "metadata": {},
   "outputs": [
    {
     "name": "stdout",
     "output_type": "stream",
     "text": [
      "2.67\n",
      "3.33\n",
      "3.25\n"
     ]
    }
   ],
   "source": [
    "# Define get mean function (mu)\n",
    "def get_mean(sample):\n",
    "    return  round(sum(sample) / len(sample), 2)\n",
    "\n",
    "#define get_variance function\n",
    "def get_variance(sample):\n",
    "\n",
    "    # First, calculate the sample mean using get_mean()\n",
    "    sample_mean = get_mean(sample)\n",
    "    \n",
    "    # Now, subtract the sample mean from each point and square the result \n",
    "    sums = [(round((i-sample_mean), 2) ** 2) for i in sample]\n",
    "    # Divide the total by the number of items in the sample to calculate variance \n",
    "    variance = round(sum(sums)/(len(sample) -1), 2)\n",
    "    \n",
    "    return variance\n",
    "\n",
    "test1 = [1, 2, 3, 5, 5, 4]\n",
    "test2 = [1, 1, 1, 2, 3, 4, 5, 5, 5]\n",
    "print(get_variance(test1)) # 2.67\n",
    "print(get_mean(test1)) # 3.33\n",
    "print(get_variance(test2)) # 3.25"
   ]
  },
  {
   "cell_type": "markdown",
   "metadata": {},
   "source": [
    "## Calculating the Standard Deviation"
   ]
  },
  {
   "cell_type": "code",
   "execution_count": 13,
   "metadata": {},
   "outputs": [
    {
     "name": "stdout",
     "output_type": "stream",
     "text": [
      "84.03\n"
     ]
    }
   ],
   "source": [
    "from math import sqrt # do not need this if raising number to 0.5 to mimic square root.\n",
    "\n",
    "def get_stddev(list):\n",
    "\n",
    "    mean = get_mean(list)\n",
    "    \n",
    "    stddev = get_variance(list) ** 0.5 # here we just raise to 0.5 instead od importing math for sqrt function\n",
    "    \n",
    "    return round(stddev, 2)\n",
    "\n",
    "test = [120,112,131,211,312,90]\n",
    "\n",
    "print (get_stddev(test))\n",
    "# 84.03"
   ]
  },
  {
   "cell_type": "markdown",
   "metadata": {},
   "source": [
    "# Learning from tests:"
   ]
  },
  {
   "cell_type": "markdown",
   "metadata": {},
   "source": [
    "## SQL \n",
    "---\n",
    "### 1. Select query with aggregate functions over all rows:  \n",
    "\n",
    "SELECT AGG_FUNC(column_or_expression) AS aggregate_description, …  \n",
    "FROM mytable  \n",
    "WHERE constraint_expression;  \n",
    "\n",
    "### 2. Select query with aggregate functions over groups  \n",
    "SELECT AGG_FUNC(column_or_expression) AS aggregate_description, …  \n",
    "FROM mytable  \n",
    "WHERE constraint_expression  \n",
    "GROUP BY column;  \n",
    "\n",
    "The GROUP BY clause works by grouping rows that have the same value in the column specified.  \n",
    "\n",
    "\n",
    "### 3. Example Join query:  \n",
    "\n",
    "SELECT column, another_column, …  \n",
    "FROM mytable  \n",
    "INNER/LEFT/RIGHT/FULL JOIN another_table   \n",
    "    ON mytable.id = another_table.matching_id  \n",
    "WHERE condition(s)  \n",
    "ORDER BY column, … ASC/DESC  \n",
    "LIMIT num_limit OFFSET num_offset;  "
   ]
  },
  {
   "cell_type": "markdown",
   "metadata": {},
   "source": [
    "## Python\n",
    "---\n",
    "1. How to pass nested lists into dictionary "
   ]
  },
  {
   "cell_type": "code",
   "execution_count": null,
   "metadata": {},
   "outputs": [],
   "source": []
  }
 ],
 "metadata": {
  "kernelspec": {
   "display_name": "Python 3",
   "language": "python",
   "name": "python3"
  },
  "language_info": {
   "codemirror_mode": {
    "name": "ipython",
    "version": 3
   },
   "file_extension": ".py",
   "mimetype": "text/x-python",
   "name": "python",
   "nbconvert_exporter": "python",
   "pygments_lexer": "ipython3",
   "version": "3.8.5"
  }
 },
 "nbformat": 4,
 "nbformat_minor": 4
}
